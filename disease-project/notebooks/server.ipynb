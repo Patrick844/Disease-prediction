{
 "cells": [
  {
   "cell_type": "code",
   "execution_count": 1,
   "id": "43d0b3f0",
   "metadata": {},
   "outputs": [
    {
     "name": "stdout",
     "output_type": "stream",
     "text": [
      "mlruns/0/b44045ee87574b14b4f9ca5e4f04eca8\n"
     ]
    },
    {
     "name": "stderr",
     "output_type": "stream",
     "text": [
      "2022/07/30 20:47:12 INFO mlflow.models.cli: Selected backend for flavor 'python_function'\n",
      "2022/07/30 20:47:13 INFO mlflow.utils.conda: Conda environment mlflow-f92c779ad88175fe3db3599886e41ec5dbf858af already exists.\n",
      "2022/07/30 20:47:13 INFO mlflow.pyfunc.backend: === Running command 'source /home/patrick/miniconda3/bin/../etc/profile.d/conda.sh && conda activate mlflow-f92c779ad88175fe3db3599886e41ec5dbf858af 1>&2 && exec gunicorn --timeout=60 -b 127.0.0.1:1234 -w 1 ${GUNICORN_CMD_ARGS} -- mlflow.pyfunc.scoring_server.wsgi:app'\n",
      "[2022-07-30 20:47:13 +0200] [166029] [INFO] Starting gunicorn 20.1.0\n",
      "[2022-07-30 20:47:13 +0200] [166029] [INFO] Listening at: http://127.0.0.1:1234 (166029)\n",
      "[2022-07-30 20:47:13 +0200] [166029] [INFO] Using worker: sync\n",
      "[2022-07-30 20:47:13 +0200] [166035] [INFO] Booting worker with pid: 166035\n",
      "[2022-07-30 21:05:05 +0200] [166029] [CRITICAL] WORKER TIMEOUT (pid:166035)\n",
      "[2022-07-30 21:05:05 +0200] [166035] [INFO] Worker exiting (pid: 166035)\n",
      "[2022-07-30 21:05:06 +0200] [168398] [INFO] Booting worker with pid: 168398\n",
      "[2022-07-30 21:28:52 +0200] [168398] [INFO] Worker exiting (pid: 168398)\n",
      "[2022-07-30 21:28:53 +0200] [171191] [INFO] Booting worker with pid: 171191\n",
      "[2022-07-30 21:30:17 +0200] [166029] [INFO] Handling signal: term\n",
      "[2022-07-30 21:30:17 +0200] [171191] [INFO] Worker exiting (pid: 171191)\n",
      "[2022-07-30 21:30:17 +0200] [166029] [INFO] Shutting down: Master\n"
     ]
    },
    {
     "data": {
      "text/plain": [
       "0"
      ]
     },
     "execution_count": 1,
     "metadata": {},
     "output_type": "execute_result"
    }
   ],
   "source": [
    "import subprocess\n",
    "import os\n",
    "import glob\n",
    "import sys\n",
    "sys.path.append(\"..\")\n",
    "\n",
    "\n",
    "list_of_files = glob.glob('mlruns/0/*') # * means all if need specific format then *.csv\n",
    "latest_file = max(list_of_files, key=os.path.getctime)\n",
    "print(latest_file)\n",
    "os.system('mlflow models serve --model-uri {}/artifacts/SVC -p 1234'.format(latest_file))"
   ]
  },
  {
   "cell_type": "code",
   "execution_count": null,
   "id": "0bee330f",
   "metadata": {},
   "outputs": [],
   "source": []
  }
 ],
 "metadata": {
  "kernelspec": {
   "display_name": "disease",
   "language": "python",
   "name": "disease"
  },
  "language_info": {
   "codemirror_mode": {
    "name": "ipython",
    "version": 3
   },
   "file_extension": ".py",
   "mimetype": "text/x-python",
   "name": "python",
   "nbconvert_exporter": "python",
   "pygments_lexer": "ipython3",
   "version": "3.9.0"
  }
 },
 "nbformat": 4,
 "nbformat_minor": 5
}
