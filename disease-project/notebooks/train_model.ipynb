{
 "cells": [
  {
   "cell_type": "code",
   "execution_count": 17,
   "id": "e2370f42",
   "metadata": {},
   "outputs": [],
   "source": [
    "import sys"
   ]
  },
  {
   "cell_type": "code",
   "execution_count": 18,
   "id": "b48e553f",
   "metadata": {},
   "outputs": [],
   "source": [
    "sys.path.append(\"..\")"
   ]
  },
  {
   "cell_type": "code",
   "execution_count": 19,
   "id": "58d1ec28",
   "metadata": {},
   "outputs": [],
   "source": [
    "from sklearn.metrics import recall_score,f1_score,precision_score"
   ]
  },
  {
   "cell_type": "code",
   "execution_count": 20,
   "id": "7524a3a8",
   "metadata": {},
   "outputs": [],
   "source": [
    "from src.features import Feature_engineering\n",
    "from src.models import train"
   ]
  },
  {
   "cell_type": "code",
   "execution_count": 21,
   "id": "feea39b9",
   "metadata": {},
   "outputs": [],
   "source": [
    "from sklearn.linear_model import LogisticRegression"
   ]
  },
  {
   "cell_type": "code",
   "execution_count": 22,
   "id": "8dbe6465",
   "metadata": {},
   "outputs": [],
   "source": [
    "import pandas as pd\n",
    "from sklearn.svm import SVC\n"
   ]
  },
  {
   "cell_type": "code",
   "execution_count": 23,
   "id": "2ea828a4",
   "metadata": {},
   "outputs": [],
   "source": [
    "import mlflow\n",
    "import mlflow.sklearn"
   ]
  },
  {
   "cell_type": "code",
   "execution_count": 24,
   "id": "543786e1",
   "metadata": {},
   "outputs": [],
   "source": [
    "df_severity = pd.read_csv(\"../data/processed/Symptom-severity.csv\",index_col=\"Symptom\")"
   ]
  },
  {
   "cell_type": "code",
   "execution_count": 25,
   "id": "d6e7451b",
   "metadata": {},
   "outputs": [],
   "source": [
    "def model_training(df,df_severity):\n",
    "    with mlflow.start_run(run_name=\"SVC\"):\n",
    "        (x_train,\n",
    "         x_test,\n",
    "         y_train,\n",
    "         y_test) = Feature_engineering.pipeline(df,df_severity)\n",
    "        clf = SVC(gamma='auto', C=2)\n",
    "        clf.fit(x_train,y_train)\n",
    "        recall, f1, precision,score = evaluation(x_test,y_test,clf)\n",
    "        \n",
    "        mlflow.log_param(\"gamma\",\"auto\")\n",
    "        mlflow.log_param(\"C\",2)\n",
    "        mlflow.log_metric(\"recall\",recall)\n",
    "        mlflow.log_metric(\"f1\",f1)\n",
    "        mlflow.log_metric(\"precision\",precision)\n",
    "        mlflow.log_metric(\"score\",score)\n",
    "        mlflow.sklearn.log_model(clf,\"SVC\")\n",
    "        \n",
    "    return recall, f1, precision,score"
   ]
  },
  {
   "cell_type": "code",
   "execution_count": 26,
   "id": "86c8f2b6",
   "metadata": {},
   "outputs": [],
   "source": [
    "def model_training_1(df,df_severity):\n",
    "    with mlflow.start_run(run_name=\"logistic\"):\n",
    "        (x_train,\n",
    "         x_test,\n",
    "         y_train,\n",
    "         y_test) = Feature_engineering.pipeline(df,df_severity)\n",
    "        clf = LogisticRegression(penalty='l2', C=5)\n",
    "        clf.fit(x_train,y_train)\n",
    "        recall, f1, precision,score = evaluation(x_test,y_test,clf)\n",
    "        \n",
    "        mlflow.log_param(\"penalty\",\"l2\")\n",
    "        mlflow.log_metric(\"recall\",recall)\n",
    "        mlflow.log_metric(\"f1\",f1)\n",
    "        mlflow.log_metric(\"precision\",precision)\n",
    "        mlflow.log_metric(\"score\",score)\n",
    "        mlflow.sklearn.log_model(clf,\"Logistic\")\n",
    "    return recall, f1, precision, score"
   ]
  },
  {
   "cell_type": "code",
   "execution_count": 27,
   "id": "ce76f311",
   "metadata": {},
   "outputs": [],
   "source": [
    "def evaluation(x_test,y_test,clf):\n",
    "    y_pred = clf.predict(x_test)\n",
    "    recall = recall_score(y_test,y_pred,average=\"micro\")\n",
    "    f1 = f1_score(y_test,y_pred,average=\"micro\")\n",
    "    precision = precision_score(y_test,y_pred,average=\"micro\")\n",
    "    score = clf.score(x_test,y_test)\n",
    "    return recall, f1, precision,score"
   ]
  },
  {
   "cell_type": "code",
   "execution_count": null,
   "id": "b87bfb0e",
   "metadata": {},
   "outputs": [],
   "source": []
  }
 ],
 "metadata": {
  "kernelspec": {
   "display_name": "disease",
   "language": "python",
   "name": "disease"
  },
  "language_info": {
   "codemirror_mode": {
    "name": "ipython",
    "version": 3
   },
   "file_extension": ".py",
   "mimetype": "text/x-python",
   "name": "python",
   "nbconvert_exporter": "python",
   "pygments_lexer": "ipython3",
   "version": "3.9.0"
  }
 },
 "nbformat": 4,
 "nbformat_minor": 5
}
