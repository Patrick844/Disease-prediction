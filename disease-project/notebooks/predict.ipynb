{
 "cells": [
  {
   "cell_type": "code",
   "execution_count": 1,
   "id": "255f395f",
   "metadata": {},
   "outputs": [],
   "source": [
    "import sys\n",
    "sys.path.append(\"..\")\n",
    "import os"
   ]
  },
  {
   "cell_type": "code",
   "execution_count": 2,
   "id": "62ea7743",
   "metadata": {},
   "outputs": [],
   "source": [
    "import pandas as pd\n",
    "import src.features.Feature_engineering as ft\n",
    "import json"
   ]
  },
  {
   "cell_type": "code",
   "execution_count": 67,
   "id": "78b7dcbf",
   "metadata": {},
   "outputs": [],
   "source": [
    "df_precautions = pd.read_csv(\"../data/raw/symptom_precaution.csv\")\n",
    "df_description = pd.read_csv(\"../data/raw/symptom_Description.csv\")\n",
    "df_severity = pd.read_csv(\"../data/processed/Symptom-severity.csv\",index_col=\"Symptom\")"
   ]
  },
  {
   "cell_type": "code",
   "execution_count": 91,
   "id": "5057edc4",
   "metadata": {},
   "outputs": [],
   "source": [
    "def predict(df):\n",
    "    for i in range(len(df)):\n",
    "        df_t = ft.pipeline(df,df_severity)\n",
    "        x = df_t.iloc[i,:].to_frame().T.to_json(orient=\"split\")\n",
    "        x = json.dumps(x)\n",
    "        res = os.popen('curl -X POST http://127.0.0.1:1234/invocations -H \"Content-Type:application/json; format=pandas-split\" --data '+ x).read()\n",
    "        print(\"------- Patient \",i,\" -------\")\n",
    "        print(\"Disease :\",res[2:-2])\n",
    "        disease_prec = df_precautions[df_precautions[\"Disease\"]==res[2:-2]]\n",
    "        print(\" \")\n",
    "        print(\"------ Precautions -------\")\n",
    "        for col in disease_prec.columns[1:]:\n",
    "            \n",
    "            print(col,\" \\t \",disease_prec[col].tolist()[0])\n",
    "        print(\" \")\n",
    "        disease_desc = df_description[df_description[\"Disease\"]==res[2:-2]]\n",
    "        print(\"------ Description -------\")\n",
    "        print(disease_desc[\"Description\"].tolist()[0])\n",
    "        print(\" \")\n",
    "        \n",
    "        \n",
    "        "
   ]
  }
 ],
 "metadata": {
  "kernelspec": {
   "display_name": "disease",
   "language": "python",
   "name": "disease"
  },
  "language_info": {
   "codemirror_mode": {
    "name": "ipython",
    "version": 3
   },
   "file_extension": ".py",
   "mimetype": "text/x-python",
   "name": "python",
   "nbconvert_exporter": "python",
   "pygments_lexer": "ipython3",
   "version": "3.9.0"
  }
 },
 "nbformat": 4,
 "nbformat_minor": 5
}
