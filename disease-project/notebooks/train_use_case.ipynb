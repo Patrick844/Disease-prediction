{
 "cells": [
  {
   "cell_type": "code",
   "execution_count": 1,
   "id": "c9a41a37",
   "metadata": {},
   "outputs": [],
   "source": [
    "import sys\n",
    "sys.path.append(\"..\")"
   ]
  },
  {
   "cell_type": "code",
   "execution_count": 2,
   "id": "09da0242",
   "metadata": {},
   "outputs": [],
   "source": [
    "import pandas as pd\n",
    "import src.models.train as train"
   ]
  },
  {
   "cell_type": "code",
   "execution_count": 3,
   "id": "ca9c29a1",
   "metadata": {},
   "outputs": [],
   "source": [
    "df = pd.read_csv(\"../data/processed/merged_data.csv\")"
   ]
  },
  {
   "cell_type": "code",
   "execution_count": 4,
   "id": "6cddf509",
   "metadata": {},
   "outputs": [
    {
     "ename": "AttributeError",
     "evalue": "module 'shap' has no attribute 'explainer'",
     "output_type": "error",
     "traceback": [
      "\u001b[1;31m---------------------------------------------------------------------------\u001b[0m",
      "\u001b[1;31mAttributeError\u001b[0m                            Traceback (most recent call last)",
      "Input \u001b[1;32mIn [4]\u001b[0m, in \u001b[0;36m<cell line: 1>\u001b[1;34m()\u001b[0m\n\u001b[1;32m----> 1\u001b[0m \u001b[43mtrain\u001b[49m\u001b[38;5;241;43m.\u001b[39;49m\u001b[43mmodel_training\u001b[49m\u001b[43m(\u001b[49m\u001b[43mdf\u001b[49m\u001b[43m)\u001b[49m\n",
      "File \u001b[1;32m~\\Documents\\EPITA\\AI_Methodo\\project\\Disease-prediction\\disease-project\\src\\models\\train.py:36\u001b[0m, in \u001b[0;36mmodel_training\u001b[1;34m(df)\u001b[0m\n\u001b[0;32m     34\u001b[0m clf \u001b[38;5;241m=\u001b[39m SVC(gamma\u001b[38;5;241m=\u001b[39m\u001b[38;5;124m'\u001b[39m\u001b[38;5;124mauto\u001b[39m\u001b[38;5;124m'\u001b[39m, C\u001b[38;5;241m=\u001b[39m\u001b[38;5;241m2\u001b[39m)\n\u001b[0;32m     35\u001b[0m clf\u001b[38;5;241m.\u001b[39mfit(x_train,y_train)\n\u001b[1;32m---> 36\u001b[0m \u001b[43mshap\u001b[49m\u001b[38;5;241;43m.\u001b[39;49m\u001b[43mexplainer\u001b[49m(clf\u001b[38;5;241m.\u001b[39mpredict,x_test)\n\u001b[0;32m     37\u001b[0m recall, f1, precision,score \u001b[38;5;241m=\u001b[39m evaluation(x_test,y_test,clf)\n\u001b[0;32m     39\u001b[0m mlflow\u001b[38;5;241m.\u001b[39mlog_param(\u001b[38;5;124m\"\u001b[39m\u001b[38;5;124mgamma\u001b[39m\u001b[38;5;124m\"\u001b[39m,\u001b[38;5;124m\"\u001b[39m\u001b[38;5;124mauto\u001b[39m\u001b[38;5;124m\"\u001b[39m)\n",
      "\u001b[1;31mAttributeError\u001b[0m: module 'shap' has no attribute 'explainer'"
     ]
    }
   ],
   "source": [
    "train.model_training(df)"
   ]
  },
  {
   "cell_type": "code",
   "execution_count": null,
   "id": "f2506e4f",
   "metadata": {},
   "outputs": [],
   "source": []
  }
 ],
 "metadata": {
  "kernelspec": {
   "display_name": "Python 3 (ipykernel)",
   "language": "python",
   "name": "python3"
  },
  "language_info": {
   "codemirror_mode": {
    "name": "ipython",
    "version": 3
   },
   "file_extension": ".py",
   "mimetype": "text/x-python",
   "name": "python",
   "nbconvert_exporter": "python",
   "pygments_lexer": "ipython3",
   "version": "3.9.0"
  }
 },
 "nbformat": 4,
 "nbformat_minor": 5
}
